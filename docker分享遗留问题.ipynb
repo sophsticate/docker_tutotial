{
 "cells": [
  {
   "cell_type": "markdown",
   "metadata": {},
   "source": [
    "# todo: -itd分开的作用"
   ]
  },
  {
   "cell_type": "markdown",
   "metadata": {},
   "source": [
    "    -i 让容器的标准输入保持打开, 以交互模式运行容器，通常与 -t 同时使用；"
   ]
  },
  {
   "cell_type": "code",
   "execution_count": null,
   "metadata": {},
   "outputs": [],
   "source": [
    "启动容器 -i\n",
    "$  docker run -i ubuntu:18.04\n",
    "\n",
    "查看容器启用状态\n",
    "$  docker container ls -a\n",
    "Up 4 seconds    \n",
    "\n",
    "退出容器\n",
    "$ exit\n",
    "\n",
    "再次查看容器启用状态\n",
    "$ docker container ls -a\n",
    "Exited (0) 3 seconds ago    \n"
   ]
  },
  {
   "cell_type": "markdown",
   "metadata": {},
   "source": [
    "    -t 选项让Docker分配一个伪终端（pseudo-tty）并绑定到容器的标准输入上,  通常与 -i 同时使用；"
   ]
  },
  {
   "cell_type": "code",
   "execution_count": null,
   "metadata": {},
   "outputs": [],
   "source": [
    "启动容器 -t\n",
    "$ docker run -t ubuntu:18.04 /bin/bash\n",
    "\n",
    "root@bea30c9436a6:/# ls   伪终端 没有输出\n",
    "\n",
    "查看容器启用状态\n",
    "$  docker container ls -a\n",
    "Up 4 seconds  \n",
    "\n",
    "此时伪终端无法退出，可以另起一个terminal, 输入一下指令\n",
    "$ docker container stop [容器ID]\n",
    "\n",
    "再次查看容器启用状态\n",
    "$ docker container ls -a\n",
    "Exited (0) 3 seconds ago  "
   ]
  },
  {
   "cell_type": "markdown",
   "metadata": {},
   "source": [
    "    -d: 后台运行容器，并返回容器ID；"
   ]
  },
  {
   "cell_type": "code",
   "execution_count": null,
   "metadata": {},
   "outputs": [],
   "source": [
    "未使用 -d 参数\n",
    "\n",
    "直接把执行命令的结果输出在当前宿主机下\n",
    "$ docker run ubuntu:18.04 /bin/sh -c \"while true; do echo hello world; sleep 1; done\"\n",
    "    \n",
    "容器会把输出的结果 (STDOUT) 打印到宿主机上面\n",
    "hello world\n",
    "hello world\n",
    "hello world\n",
    ".......\n",
    "\n",
    "查看容器启用状态\n",
    "$  docker container ls -a\n",
    "Up 4 seconds    \n",
    "\n",
    "退出 crtl+c\n",
    "\n",
    "再次查看容器启用状态\n",
    "$ docker container ls -a\n",
    "Exited (0) 3 seconds ago \n"
   ]
  },
  {
   "cell_type": "code",
   "execution_count": null,
   "metadata": {},
   "outputs": [],
   "source": [
    "如果使用了 -d 参数运行容器。\n",
    "$ docker run -d ubuntu:18.04 /bin/sh -c \"while true; do echo hello world; sleep 1; done\"\n",
    "\n",
    "查看容器启用状态\n",
    "$  docker container ls -a\n",
    "Up 4 seconds  \n",
    "\n",
    "此时容器会在后台运行并不会把输出的结果 (STDOUT) 打印到宿主机上面(输出结果可以用 docker logs 查看)。\n",
    "\n",
    "$ docker container logs [container ID or NAMES]\n",
    "hello world\n",
    "hello world\n",
    "hello world\n",
    ". . .\n",
    "\n",
    "终止容器，停掉上面后台运行的容器\n",
    "$ docker container stop 93f70ee34376"
   ]
  },
  {
   "cell_type": "code",
   "execution_count": null,
   "metadata": {},
   "outputs": [],
   "source": [
    "#清理所有终止状态的容器\n",
    "$ docker container prune"
   ]
  },
  {
   "cell_type": "markdown",
   "metadata": {},
   "source": [
    "# Untagged 和 Deleted  （镜像删除）"
   ]
  },
  {
   "cell_type": "markdown",
   "metadata": {},
   "source": [
    "    1、除了镜像依赖以外，还需要注意的是容器对镜像的依赖。如果有用这个镜像启动的容器存在（即使容器没有运行），那么同样不可以删除这个镜像"
   ]
  },
  {
   "cell_type": "code",
   "execution_count": null,
   "metadata": {},
   "outputs": [],
   "source": [
    "切换到 \n",
    "$ cd /Users/xuwenxiang/Documents/docker_share/rm_image\n",
    "在这个目标下有3个子文件，分别进入子文件并构建3个子镜像\n",
    "\n",
    "构建镜像\n",
    "$ cd test1\n",
    "$ docker build -t rm_image:v1 .\n",
    "$ cd test2\n",
    "$ docker build -t rm_image:v2 .\n",
    "$ cd test3\n",
    "$ docker build -t rm_image:v3 .\n",
    "\n",
    "查看构建的镜像\n",
    "$docker image ls\n",
    "REPOSITORY          TAG                 IMAGE ID            CREATED             SIZE\n",
    "rm_image            v1                  4e5021d210f6        4 weeks ago         64.2MB\n",
    "rm_image            v2                  4e5021d210f6        4 weeks ago         64.2MB\n",
    "rm_image            v3                  4e5021d210f6        4 weeks ago         64.2MB\n",
    "ubuntu              18.04               4e5021d210f6        4 weeks ago         64.2MB\n",
    "\n",
    "启用rm_image:v3镜像\n",
    "$ docker run -it rm_image:v3\n",
    "\n",
    "准备删除 rm_image:v3\n",
    "$ docker image rm rm_image:v3\n",
    "删除不了，提示镜像整备某个容器使用\n",
    "\n",
    "停止容器\n",
    "$ exit\n",
    "继续试着删除rm_image:v3\n",
    "$ docker image rm rm_image:v3\n",
    "发现还是无法删除\n",
    "    "
   ]
  },
  {
   "cell_type": "code",
   "execution_count": null,
   "metadata": {},
   "outputs": [],
   "source": [
    "删除rm_image:v3对应的容器\n",
    "$ docker container rm [容器id]\n",
    "\n",
    "继续试着删除rm_image:v3\n",
    "$ docker image rm rm_image:v3\n",
    "\n",
    "Untagged: rm_image:v3\n",
    "Deleted: sha256:5377db43d6e7aca3539870ad11e65ba53c26be04b8c8a8d3c022e9c382bf4fd7\n",
    "Deleted: sha256:05790d44282e906d7a86b4ff7f194f6d6c23b3a48f6bb1db325786c8af32c42a\n",
    "        \n",
    "这个时候我们可以看到镜像被删除了，\n"
   ]
  },
  {
   "cell_type": "markdown",
   "metadata": {},
   "source": [
    "     2、 因此当我们使用上面命令删除镜像的时候，实际上是在要求删除某个标签的镜像。所以首先需要做的是将满足我们要求的所有镜像标签都取消，这就是我们看到的 Untagged 的信息。因为一个镜像可以对应多个标签，因此当我们删除了所指定的标签后，可能还有别的标签指向了这个镜像，如果是这种情况，那么 Delete 行为就不会发生。所以并非所有的docker image rm 都会产生删除镜像的行为，有可能仅仅是取消了某个标签而已。"
   ]
  },
  {
   "cell_type": "code",
   "execution_count": null,
   "metadata": {},
   "outputs": [],
   "source": [
    "接着我们扎test2文件夹构建2个copy镜像\n",
    "# \n",
    "$ cd /Users/xuwenxiang/Documents/docker_share/rm_image/test2\n",
    "$ docker build -t rm_image:v2_copy .\n",
    "$ docker build -t rm_image:v2_copy2 .\n",
    "\n",
    "查看镜像\n",
    "$docker image ls\n",
    "REPOSITORY          TAG                 IMAGE ID            CREATED             SIZE\n",
    "rm_image            v2                  a6f3bfb93acd        11 minutes ago      64.2MB\n",
    "rm_image            v2_copy             a6f3bfb93acd        11 minutes ago      64.2MB\n",
    "rm_image            v2_copy2            a6f3bfb93acd        11 minutes ago      64.2MB\n",
    "\n",
    "这时候rm_image_v2 有3个标签分别是v2， v2_copy， v2_copy2\n",
    "\n",
    "试着删除标签为v2_copy2的镜像，\n",
    "$ docker image rm rm_image:v2_copy2\n",
    "Untagged: rm_image:v2_copy2\n",
    "\n",
    "查看删除情况\n",
    "$docker image ls\n",
    "REPOSITORY          TAG                 IMAGE ID            CREATED             SIZE\n",
    "rm_image            v2                  a6f3bfb93acd        11 minutes ago      64.2MB\n",
    "rm_image            v2_copy             a6f3bfb93acd        11 minutes ago      64.2MB\n",
    "\n",
    "可以发现只触发了Untagged， 只是将标签取消了， 既将标签为v2_copy2的镜像删除了\n",
    "\n",
    "继续删:rm_image：v2_copy\n",
    "$ docker image rm rm_image:v2_copy\n",
    " Untagged: rm_image:v2_copy\n",
    " 结果和v2_copy2一样\n",
    "\n",
    "继续删除rm_image:v2\n",
    "$ docker image rm rm_image:v2\n",
    " Untagged: rm_image:v2\n",
    " Deleted: sha256:a6f3bfb93acd58794e65f5aff8aaef460df697650c03daac5c0e7d627af7d54c\n",
    " Deleted: sha256:ab99c4e7572c2800d5a7a2517700cafac11fc309f7a69c30d66e961c9c6e6ba6   \n",
    " 所有的标签都删除后，才会看到Deleted行为\n",
    "\n",
    "\n"
   ]
  },
  {
   "cell_type": "markdown",
   "metadata": {},
   "source": [
    "<!--     因此很有可能某个其它镜像正依赖于当前镜像的某一层。这种情况，依旧不会触发删除该层的行为。直到没有任何层依赖当前层时，才会真实的删除当前层。 -->\n",
    "<!-- # 切换到test4文件夹\n",
    "# 构建test4\n",
    "# $docker build -t rm_image:v4 .\n",
    "\n",
    "# 启动容器\n",
    "# $ docker run -it rm_image:v4\n",
    "# 增加一个文件\n",
    "# $ echo '<h1>Hello, Docker!</h1>' > index2.html\n",
    "\n",
    "# 查看刚才的容器名称\n",
    "# $ docker container ls -a\n",
    "\n",
    "# docker commit在rm_image:v4基础上构建新镜像\n",
    "# $ docker commit --author \"synyi123 <970784198@qq.com>\" --message 'test' 43d7ad18f6e7 rm_image:v4_update\n",
    "    \n",
    "# 删除 rm_image:v4 -->"
   ]
  },
  {
   "cell_type": "markdown",
   "metadata": {},
   "source": [
    "# cmd 具体场景"
   ]
  },
  {
   "cell_type": "markdown",
   "metadata": {},
   "source": [
    "    CMD 和 ENTRYPOINT 指令都是用来指定容器启动时运行的命令。\n",
    "    都有exec 模式和 shell 模式，功能类似"
   ]
  },
  {
   "cell_type": "markdown",
   "metadata": {},
   "source": [
    "    有一种场景\n",
    "    由 CMD 指令指定ENTRYPOINT默认的可选参数"
   ]
  },
  {
   "cell_type": "code",
   "execution_count": null,
   "metadata": {},
   "outputs": [],
   "source": [
    "切换到 /Users/xuwenxiang/Documents/docker_share/entrypoint_2\n",
    "$ cd /Users/xuwenxiang/Documents/docker_share/entrypoint_2\n",
    "\n",
    "$ docker build -t myip .  # 这一步较慢，可以查看dockerfile， 直接启动镜像\n",
    "$ docker run myip\n",
    "\n",
    "HTTP/1.1 200 OK\n",
    "Date: Thu, 23 Apr 2020 09:23:51 GMT\n",
    "Content-Type: text/html\n",
    "Server: Kestrel\n",
    "Content-Length: 2059\n",
    "Last-Modified: Mon, 17 Feb 2020 05:16:45 GMT\n",
    "Accept-Ranges: bytes\n",
    "ETag: \"1d5e551724c148b\""
   ]
  },
  {
   "cell_type": "markdown",
   "metadata": {},
   "source": [
    "    注：\n",
    "    Dockerfile 中至少要有一个"
   ]
  },
  {
   "cell_type": "markdown",
   "metadata": {},
   "source": [
    "# EXPOSE 声明端口"
   ]
  },
  {
   "cell_type": "code",
   "execution_count": null,
   "metadata": {},
   "outputs": [],
   "source": [
    "-P: 随机端口映射，容器内部端口随机映射到主机的高端口\n",
    "-p: 指定端口映射，格式为：主机(宿主)端口:容器端口"
   ]
  },
  {
   "cell_type": "code",
   "execution_count": null,
   "metadata": {},
   "outputs": [],
   "source": [
    "使用镜像nginx:latest以后台模式启动一个容器\n",
    "\n",
    "将容器的80端口映射到主机的80端口\n",
    "$ docker run --name webserver -d -p 80:80 nginx\n",
    "    \n",
    "将容器的80端口映射到主机随机端口\n",
    "$ docker run -P -d nginx:latest\n",
    "\n",
    "查看容器运行状态, 可以查看到刚才随机映射的主机端口未32768\n",
    "$ docker container ls -a\n",
    "CONTAINER ID        IMAGE               COMMAND                  CREATED             STATUS              PORTS                   NAMES\n",
    "6aeed76c0807        nginx:latest        \"nginx -g 'daemon of…\"   51 seconds ago      Up 48 seconds       0.0.0.0:32768->80/tcp   sad_cray   "
   ]
  },
  {
   "cell_type": "code",
   "execution_count": null,
   "metadata": {},
   "outputs": [],
   "source": []
  },
  {
   "cell_type": "code",
   "execution_count": null,
   "metadata": {},
   "outputs": [],
   "source": [
    "dockerfile 文件："
   ]
  },
  {
   "cell_type": "code",
   "execution_count": null,
   "metadata": {},
   "outputs": [],
   "source": [
    "FROM nginx:latest\n",
    "\n",
    "EXPOSE 801"
   ]
  },
  {
   "cell_type": "code",
   "execution_count": null,
   "metadata": {},
   "outputs": [],
   "source": [
    "切换到 /Users/xuwenxiang/Documents/docker_share/expose\n",
    "$ cd /Users/xuwenxiang/Documents/docker_share/expose\n",
    "\n",
    "构建镜像\n",
    "$ docker build -t expose .\n",
    "\n",
    "启动容器, -P 自动映射(宿主机端口随机)\n",
    "$ docker run --name expose_test -P -d expose\n",
    "\n",
    "$ docker container ls -a\n",
    "CONTAINER ID        IMAGE               COMMAND                  CREATED             STATUS              PORTS               NAMES\n",
    "5b5a3c331769        expose              \"nginx -g 'daemon of…\"   4 seconds ago       Up 3 seconds        80/tcp, 801/tcp     expose_test"
   ]
  },
  {
   "cell_type": "markdown",
   "metadata": {},
   "source": [
    "    解释：\n",
    "     EXPOSE 仅仅是暴露一个端口，一个标识，在没有定义任何端口映射时，外部是无法访问到容器提供的服务。"
   ]
  },
  {
   "cell_type": "markdown",
   "metadata": {},
   "source": [
    "# WORKDIR 指定工作目录, 多行run，WORKDIR是不是全局的"
   ]
  },
  {
   "cell_type": "code",
   "execution_count": null,
   "metadata": {},
   "outputs": [],
   "source": [
    "# 切换到 /Users/xuwenxiang/Documents/docker_share/workdir\n",
    "$ cd /Users/xuwenxiang/Documents/docker_share/workdir"
   ]
  },
  {
   "cell_type": "code",
   "execution_count": null,
   "metadata": {},
   "outputs": [],
   "source": [
    "dockerfile文件内容如下\n",
    "\n",
    "FROM ubuntu:18.04\n",
    "WORKDIR /var/model\n",
    "RUN echo '<h1>Hello, Docker!</h1>' > index.html\n",
    "RUN echo '<h1>Nice to meet you!</h1>' > index2.html"
   ]
  },
  {
   "cell_type": "code",
   "execution_count": null,
   "metadata": {},
   "outputs": [],
   "source": [
    "构建镜像\n",
    "$ docker build -t workdir_test .\n",
    "\n",
    "插看镜像\n",
    "$ docker image ls\n",
    "\n",
    "启动容器\n",
    "$ docker run --name workdir_test -it workdir_test\n",
    "\n",
    "可以看到两个文件都存在\n",
    "root@a3a88f5ea147:/var/model# ls\n",
    "index.html  index_2.html\n"
   ]
  },
  {
   "cell_type": "markdown",
   "metadata": {},
   "source": [
    "     注：\n",
    "     WORKDIR 指令可以来指定工作目录（或者称为当前目录），以后各层的当前目录就被改为指定的目录，如该目录不存在，WORKDIR 会帮你建立目录。"
   ]
  },
  {
   "cell_type": "markdown",
   "metadata": {},
   "source": [
    "# volume挂载 "
   ]
  },
  {
   "cell_type": "code",
   "execution_count": null,
   "metadata": {},
   "outputs": [],
   "source": [
    "# 切换到/Users/xuwenxiang/Documents/docker_share/volume目录下"
   ]
  },
  {
   "cell_type": "markdown",
   "metadata": {},
   "source": [
    "    1、不使用挂载， 切换到test1"
   ]
  },
  {
   "cell_type": "code",
   "execution_count": null,
   "metadata": {},
   "outputs": [],
   "source": [
    "构建镜像\n",
    "$ cd test1 \n",
    "$ docker build -t volume_test1 .\n",
    "\n",
    "启用镜像\n",
    "$ docker run -it volume_test1 /bin/bash\n",
    "\n",
    "写入一个文件\n",
    "$echo '<h1>Hello, Docker!</h1>' > index2.html\n",
    "退出\n",
    "$ exit \n",
    "\n",
    "再次启用镜像\n",
    "$ docker run -it volume_test1 /bin/bash\n",
    "$ ls 查看目录，发现刚才存的index2.html文件不在的。\n"
   ]
  },
  {
   "cell_type": "markdown",
   "metadata": {},
   "source": [
    " # 如何保证镜像重启时，所存储的文件能够保存下来"
   ]
  },
  {
   "cell_type": "markdown",
   "metadata": {},
   "source": [
    "    2、使用挂载， 切换到test2,\n",
    "    添加 VOLUME [\"/data\"]"
   ]
  },
  {
   "cell_type": "code",
   "execution_count": null,
   "metadata": {},
   "outputs": [],
   "source": [
    "构建镜像\n",
    "$ cd test2\n",
    "$ docker build -t volume_test2 .\n",
    "\n",
    "启用镜像\n",
    "$ docker run -it volume_test2 /bin/bash\n",
    "\n",
    "写入一个文件 docke.txt\n",
    "$ echo '<h1>Hello, Docker!</h1>' > docker.html\n",
    "#不要退出交互模式\n",
    "\n",
    "查看挂载位置\n",
    "\n",
    "$ docker inspect [container_id] | grep Source\n",
    "\"Source\": \"/var/lib/docker/volumes/90bf3beeb5363be912039acc519657bd1cebc7825920fe0e540b6f9442bff61d/_data\"\n",
    "这就是宿主机的位置\n",
    "\n",
    "在宿主机查看， 另起一个terminal，输入一下指令\n",
    "screen ~/Library/Containers/com.docker.docker/Data/vms/0/tty\n",
    "$ cd /var/lib/docker/volumes/90bf3beeb5363be912039acc519657bd1cebc7825920fe0e540b6f9442bff61d/_data\n",
    "$ ls \n",
    "docker.html\n",
    "\n",
    "在挂载位置新建文件\n",
    "$ echo '<h1>Hello, host!</h1>' > host.html\n",
    "$ls \n",
    "docker.html  host.html\n",
    "\n",
    "然后再docker容器内查看\n",
    "$ls \n",
    "docker.html  host.html\n",
    "发现在data文件夹有host.html\n",
    "\n",
    "$exit 退出容器，我们发现文件还是存在宿主机上\n"
   ]
  },
  {
   "cell_type": "code",
   "execution_count": null,
   "metadata": {},
   "outputs": [],
   "source": [
    "VOLUME [\"/data\"]， 由docker 随机生成挂载点，也可以手动指定挂载点，\n",
    "启用镜像时 覆盖这个VOLUME [\"/data\"]\n",
    "\n",
    "挂载点为：/Users/xuwenxiang/Documents/docker_share/share\n",
    "$ docker run -it -v /Users/xuwenxiang/Documents/docker_share/share:/data volume_test2 /bin/bash\n",
    "$ echo '<h1>Hello, Docker!</h1>' > docker.html\n",
    "\n",
    "在宿主机/Users/xuwenxiang/Documents/docker_share/share查看\n",
    "文件被保留下来了\n",
    "\n",
    "在宿主机创建文件，在docker容器查看发现一样被保存下来了\n",
    "\n",
    "$exit 退出容器，我们发现文件还是存在宿主机上"
   ]
  },
  {
   "cell_type": "code",
   "execution_count": 1,
   "metadata": {},
   "outputs": [
    {
     "data": {
      "text/plain": [
       "'/Users/xuwenxiang'"
      ]
     },
     "execution_count": 1,
     "metadata": {},
     "output_type": "execute_result"
    }
   ],
   "source": [
    "pwd"
   ]
  },
  {
   "cell_type": "code",
   "execution_count": null,
   "metadata": {},
   "outputs": [],
   "source": []
  }
 ],
 "metadata": {
  "kernelspec": {
   "display_name": "Python 3",
   "language": "python",
   "name": "python3"
  },
  "language_info": {
   "codemirror_mode": {
    "name": "ipython",
    "version": 3
   },
   "file_extension": ".py",
   "mimetype": "text/x-python",
   "name": "python",
   "nbconvert_exporter": "python",
   "pygments_lexer": "ipython3",
   "version": "3.7.3"
  }
 },
 "nbformat": 4,
 "nbformat_minor": 4
}
